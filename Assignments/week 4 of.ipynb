{
  "nbformat": 4,
  "nbformat_minor": 0,
  "metadata": {
    "accelerator": "GPU",
    "colab": {
      "provenance": []
    },
    "kernelspec": {
      "display_name": "Python 3",
      "language": "python",
      "name": "python3"
    },
    "language_info": {
      "codemirror_mode": {
        "name": "ipython",
        "version": 3
      },
      "file_extension": ".py",
      "mimetype": "text/x-python",
      "name": "python",
      "nbconvert_exporter": "python",
      "pygments_lexer": "ipython3",
      "version": "3.7.6"
    }
  },
  "cells": [
    {
      "cell_type": "markdown",
      "metadata": {
        "id": "WfCzS_G45Xt5"
      },
      "source": [
        "**Welcome to Weekly-Assignment 4 on Deep Learning for Computer Vision.**\n",
        "\n",
        "This assignment is based on the content you learned in Week-4 of course.\n",
        "\n",
        "\n",
        "#### **Instructions**\n",
        "1. Use Python 3.x to run this notebook\n",
        "2. Write your code only in between the lines 'YOUR CODE STARTS HERE' and 'YOUR CODE ENDS HERE'.\n",
        "you should not change anything else in the code cells, if you do, the answers you are supposed to get at the end of this assignment might be wrong.\n",
        "3. Read documentation of each function carefully.\n",
        "4. All the Best!"
      ]
    },
    {
      "cell_type": "markdown",
      "source": [
        "##MNIST classification using CNN"
      ],
      "metadata": {
        "id": "O0eEmi9H7P4M"
      }
    },
    {
      "cell_type": "code",
      "metadata": {
        "id": "8Am6UM5w6DQk"
      },
      "source": [
        "import numpy as np\n",
        "import torch\n",
        "import torch.nn as nn\n",
        "import torch.optim as optim\n",
        "from torchvision import datasets, transforms\n",
        "import torch.nn.functional as F\n",
        "import timeit\n",
        "import unittest\n",
        "\n",
        "## Please DONOT remove these lines.\n",
        "torch.manual_seed(2024)\n",
        "torch.backends.cudnn.deterministic = True\n",
        "torch.backends.cudnn.benchmark = False\n",
        "np.random.seed(2024)"
      ],
      "execution_count": null,
      "outputs": []
    },
    {
      "cell_type": "markdown",
      "metadata": {
        "id": "RijSOxk76d6u"
      },
      "source": [
        "### Data Loading and Pre-processing"
      ]
    },
    {
      "cell_type": "code",
      "metadata": {
        "id": "0kJiE9Jw1FAp"
      },
      "source": [
        "# check availability of GPU and set the device accordingly\n",
        "#### YOUR CODE STARTS HERE ####\n",
        "device =torch.device('cuda:0' if torch.cuda.is_available() else 'cpu')\n",
        "#### YOUR CODE ENDS HERE ####\n",
        "\n",
        "# Hyper parameters\n",
        "num_epochs = 10\n",
        "num_classes = 10\n",
        "learning_rate = 0.01\n",
        "\n",
        "# define a transforms for preparing the dataset\n",
        "# for normalization of the MNIST dataset, take mean=0.1307 and std=0.3081\n",
        "\n",
        "#### YOUR CODE STARTS HERE ####\n",
        "transform = transforms.Compose([\n",
        "        transforms.ToTensor(), # convert the image to a pytorch tensor\n",
        "        transforms.Normalize((0.1307,), (0.3081,)) # normalise with mean and std of the dataset\n",
        "        ])\n",
        "#### YOUR CODE ENDS HERE ####"
      ],
      "execution_count": null,
      "outputs": []
    },
    {
      "cell_type": "code",
      "metadata": {
        "id": "qQKIXNOr6kJY",
        "colab": {
          "base_uri": "https://localhost:8080/"
        },
        "outputId": "cd1fa442-6759-457d-cf6a-21bb0d6fef1d"
      },
      "source": [
        "# Load the MNIST training, test datasets using `torchvision.datasets.MNIST` using the transform defined above\n",
        "#### YOUR CODE STARTS HERE ####\n",
        "train_dataset =datasets.MNIST('./data', train=True, download=True,\n",
        "                       transform=transform)\n",
        "test_dataset = datasets.MNIST('./data', train=False, download=True,\n",
        "                       transform=transform)\n",
        "#### YOUR CODE ENDS HERE ####"
      ],
      "execution_count": null,
      "outputs": [
        {
          "output_type": "stream",
          "name": "stdout",
          "text": [
            "Downloading http://yann.lecun.com/exdb/mnist/train-images-idx3-ubyte.gz\n",
            "Downloading http://yann.lecun.com/exdb/mnist/train-images-idx3-ubyte.gz to ./data/MNIST/raw/train-images-idx3-ubyte.gz\n"
          ]
        },
        {
          "output_type": "stream",
          "name": "stderr",
          "text": [
            "100%|██████████| 9912422/9912422 [00:00<00:00, 175659896.34it/s]"
          ]
        },
        {
          "output_type": "stream",
          "name": "stdout",
          "text": [
            "Extracting ./data/MNIST/raw/train-images-idx3-ubyte.gz to ./data/MNIST/raw\n"
          ]
        },
        {
          "output_type": "stream",
          "name": "stderr",
          "text": [
            "\n"
          ]
        },
        {
          "output_type": "stream",
          "name": "stdout",
          "text": [
            "\n",
            "Downloading http://yann.lecun.com/exdb/mnist/train-labels-idx1-ubyte.gz\n",
            "Downloading http://yann.lecun.com/exdb/mnist/train-labels-idx1-ubyte.gz to ./data/MNIST/raw/train-labels-idx1-ubyte.gz\n"
          ]
        },
        {
          "output_type": "stream",
          "name": "stderr",
          "text": [
            "100%|██████████| 28881/28881 [00:00<00:00, 84769554.81it/s]\n"
          ]
        },
        {
          "output_type": "stream",
          "name": "stdout",
          "text": [
            "Extracting ./data/MNIST/raw/train-labels-idx1-ubyte.gz to ./data/MNIST/raw\n",
            "\n",
            "Downloading http://yann.lecun.com/exdb/mnist/t10k-images-idx3-ubyte.gz\n",
            "Downloading http://yann.lecun.com/exdb/mnist/t10k-images-idx3-ubyte.gz to ./data/MNIST/raw/t10k-images-idx3-ubyte.gz\n"
          ]
        },
        {
          "output_type": "stream",
          "name": "stderr",
          "text": [
            "100%|██████████| 1648877/1648877 [00:00<00:00, 81266864.04it/s]"
          ]
        },
        {
          "output_type": "stream",
          "name": "stdout",
          "text": [
            "Extracting ./data/MNIST/raw/t10k-images-idx3-ubyte.gz to ./data/MNIST/raw\n"
          ]
        },
        {
          "output_type": "stream",
          "name": "stderr",
          "text": [
            "\n"
          ]
        },
        {
          "output_type": "stream",
          "name": "stdout",
          "text": [
            "\n",
            "Downloading http://yann.lecun.com/exdb/mnist/t10k-labels-idx1-ubyte.gz\n",
            "Downloading http://yann.lecun.com/exdb/mnist/t10k-labels-idx1-ubyte.gz to ./data/MNIST/raw/t10k-labels-idx1-ubyte.gz\n"
          ]
        },
        {
          "output_type": "stream",
          "name": "stderr",
          "text": [
            "100%|██████████| 4542/4542 [00:00<00:00, 12794176.47it/s]\n"
          ]
        },
        {
          "output_type": "stream",
          "name": "stdout",
          "text": [
            "Extracting ./data/MNIST/raw/t10k-labels-idx1-ubyte.gz to ./data/MNIST/raw\n",
            "\n"
          ]
        }
      ]
    },
    {
      "cell_type": "code",
      "metadata": {
        "id": "JrmrFsgP6mY0"
      },
      "source": [
        "# create dataloaders for training and test datasets\n",
        "# use a batch size of 32 and set shuffle=True for the training set\n",
        "#### YOUR CODE STARTS HERE ####\n",
        "train_dataloader = torch.utils.data.DataLoader(train_dataset, batch_size=32, shuffle=True)\n",
        "test_dataloader = torch.utils.data.DataLoader(test_dataset, batch_size=32)\n",
        "#### YOUR CODE ENDS HERE ####\n"
      ],
      "execution_count": null,
      "outputs": []
    },
    {
      "cell_type": "markdown",
      "metadata": {
        "id": "mvzxEVks6oKk"
      },
      "source": [
        "### Network Definition"
      ]
    },
    {
      "cell_type": "code",
      "metadata": {
        "id": "ZHgh0YwJ6288"
      },
      "source": [
        "# Convolutional neural network (Two convolutional layers)\n",
        "class ConvolutionNet(nn.Module):\n",
        "    def __init__(self, num_classes=10):\n",
        "        super( ConvolutionNet, self).__init__()\n",
        "\n",
        "        # define a sequential module with\n",
        "        # 1. conv layer with input channel as 1, output channels as 16, kernel size of 5, stride of 1 and padding 0\n",
        "        # 2. 2D BatchNorm of 16 features\n",
        "        # 3. ReLU activation\n",
        "        # 4. 2D MaxPool with kernel size of 2 and stride of 2\n",
        "\n",
        "        #### YOUR CODE STARTS HERE ####\n",
        "        self.conv_block1 = nn.Sequential(\n",
        "            nn.Conv2d(1, 16, kernel_size=5, stride=1, padding=0),\n",
        "            nn.BatchNorm2d(16),\n",
        "            nn.ReLU(),\n",
        "            nn.MaxPool2d(kernel_size=2, stride=2))\n",
        "        #### YOUR CODE ENDS HERE ####\n",
        "\n",
        "        # define a sequential module with\n",
        "        # 1. conv layer with input channel as 16, output channels as 8, kernel size of 7, stride of 1 and padding 2\n",
        "        # 2. 2D BatchNorm of 8 features\n",
        "        # 3. ReLU activation\n",
        "        # 4. 2D MaxPool with kernel size of 2 and stride of 2\n",
        "\n",
        "        #### YOUR CODE STARTS HERE ####\n",
        "        self.conv_block2 =nn.Sequential(\n",
        "            nn.Conv2d(16, 8, kernel_size=7, stride=1, padding=2),\n",
        "            nn.BatchNorm2d(8),\n",
        "            nn.ReLU(),\n",
        "            nn.MaxPool2d(kernel_size=2, stride=2))\n",
        "        #### YOUR CODE ENDS HERE ####\n",
        "\n",
        "        # define a linear(dense) layer with output features corresponding to the number of classes in the dataset\n",
        "\n",
        "        #### YOUR CODE STARTS HERE ####\n",
        "        self.fc = nn.Linear(5*5*8, num_classes)\n",
        "        #### YOUR CODE ENDS HERE ####\n",
        "\n",
        "    def forward(self, x):\n",
        "        # Use the sequential convolution blocks defined above (conv_block1--> conv_block2-->fc) and\n",
        "        # write the forward pass.\n",
        "\n",
        "        #### YOUR CODE STARTS HERE ####\n",
        "        output = self.conv_block1(x)\n",
        "        output = self.conv_block2(output)\n",
        "        output = output.reshape(output.size(0), -1)\n",
        "\n",
        "        output = self.fc(output)\n",
        "        #### YOUR CODE ENDS HERE ####\n",
        "        return output\n"
      ],
      "execution_count": null,
      "outputs": []
    },
    {
      "cell_type": "markdown",
      "metadata": {
        "id": "d8mfP-hKTPOX"
      },
      "source": [
        "### Question 1\n",
        "\n",
        "What is the size of parameter matrix corresponding to convolution layer of second sequential block ?\n",
        "\n",
        "1. 8x16x7x7\n",
        "2. 16x16x6x6\n",
        "3. 16x8x5x5\n",
        "4. 16x8x4x4\n",
        "\n",
        "Answer (1)"
      ]
    },
    {
      "cell_type": "code",
      "metadata": {
        "id": "xDApDQj1TClB",
        "colab": {
          "base_uri": "https://localhost:8080/"
        },
        "outputId": "cf5b33d9-7334-4227-b3ad-238c5e39e5a7"
      },
      "source": [
        "#### YOUR CODE STARTS HERE ####\n",
        "model = ConvolutionNet(num_classes).to(device)\n",
        "model.conv_block2[0].weight.shape\n",
        "#or\n",
        "# params=list(model.parameters())\n",
        "# params[4].shape\n",
        "#### YOUR CODE ENDS HERE ####"
      ],
      "execution_count": null,
      "outputs": [
        {
          "output_type": "execute_result",
          "data": {
            "text/plain": [
              "torch.Size([8, 16, 7, 7])"
            ]
          },
          "metadata": {},
          "execution_count": 7
        }
      ]
    },
    {
      "cell_type": "markdown",
      "metadata": {
        "id": "I-DeopBwCTgd"
      },
      "source": [
        "### Training and Inference"
      ]
    },
    {
      "cell_type": "code",
      "metadata": {
        "id": "vyDp2L7rVSYD",
        "colab": {
          "base_uri": "https://localhost:8080/"
        },
        "outputId": "a6e1c34f-7fde-4780-f6f2-0e3db02d3b1b"
      },
      "source": [
        "#define the model\n",
        "#### YOUR CODE STARTS HERE ####\n",
        "model = ConvolutionNet(num_classes).to(device)\n",
        "#### YOUR CODE ENDS HERE ####\n",
        "\n",
        "\n",
        "#define cross entropy loss and Adam optimizer using learning rate=learning_rate\n",
        "#### YOUR CODE STARTS HERE ####\n",
        "# Loss and optimizer\n",
        "criterion = nn.CrossEntropyLoss()\n",
        "optimizer = torch.optim.Adam(model.parameters(), lr=learning_rate)\n",
        "#### YOUR CODE ENDS HERE ####\n",
        "\n",
        "# Train the model\n",
        "total_step = len(train_dataloader)\n",
        "for epoch in range(num_epochs):\n",
        "    for i, (images, labels) in enumerate(train_dataloader):\n",
        "       #### YOUR CODE STARTS HERE ####\n",
        "        # send the image, target to the device\n",
        "        images = images.to(device)\n",
        "        labels = labels.to(device)\n",
        "\n",
        "        # flush out the gradients stored in optimizer\n",
        "        optimizer.zero_grad()\n",
        "        # pass the image to the model and assign the output to variable named output\n",
        "        output = model(images)\n",
        "        # calculate the loss (use cross entropy in pytorch)\n",
        "        loss = criterion(output, labels)\n",
        "        # do a backward pass\n",
        "        loss.backward()\n",
        "        # update the weights\n",
        "        optimizer.step()\n",
        "       #### YOUR CODE ENDS HERE ####\n",
        "        if (i+1) % 100 == 0:\n",
        "            print ('Epoch [{}/{}], Step [{}/{}], Loss: {:.4f}'\n",
        "                   .format(epoch+1, num_epochs, i+1, total_step, loss.item()))\n",
        "\n",
        "# Test the model\n",
        "model.eval()  # eval mode (batchnorm uses moving mean/variance instead of mini-batch mean/variance)\n",
        "with torch.no_grad():\n",
        "    correct = 0\n",
        "    total = 0\n",
        "    for images, labels in test_dataloader:\n",
        "      ### YOUR CODE STARTS HERE ####\n",
        "        # send the image, target to the device\n",
        "        images = images.to(device)\n",
        "        labels = labels.to(device)\n",
        "        # pass the image to the model and assign the output to variable named output\n",
        "        outputs = model(images)\n",
        "      #### YOUR CODE ENDS HERE ####\n",
        "        _, predicted = torch.max(outputs.data, 1)\n",
        "        total += labels.size(0)\n",
        "        correct += (predicted == labels).sum().item()\n",
        "\n",
        "    print('Test Accuracy of the model : {} %'.format(100 * correct / total))"
      ],
      "execution_count": null,
      "outputs": [
        {
          "output_type": "stream",
          "name": "stdout",
          "text": [
            "Epoch [1/10], Step [100/1875], Loss: 0.5960\n",
            "Epoch [1/10], Step [200/1875], Loss: 0.0701\n",
            "Epoch [1/10], Step [300/1875], Loss: 0.0917\n",
            "Epoch [1/10], Step [400/1875], Loss: 0.0641\n",
            "Epoch [1/10], Step [500/1875], Loss: 0.2230\n",
            "Epoch [1/10], Step [600/1875], Loss: 0.3393\n",
            "Epoch [1/10], Step [700/1875], Loss: 0.0660\n",
            "Epoch [1/10], Step [800/1875], Loss: 0.0110\n",
            "Epoch [1/10], Step [900/1875], Loss: 0.1012\n",
            "Epoch [1/10], Step [1000/1875], Loss: 0.0898\n",
            "Epoch [1/10], Step [1100/1875], Loss: 0.0673\n",
            "Epoch [1/10], Step [1200/1875], Loss: 0.0938\n",
            "Epoch [1/10], Step [1300/1875], Loss: 0.1171\n",
            "Epoch [1/10], Step [1400/1875], Loss: 0.0124\n",
            "Epoch [1/10], Step [1500/1875], Loss: 0.0344\n",
            "Epoch [1/10], Step [1600/1875], Loss: 0.0167\n",
            "Epoch [1/10], Step [1700/1875], Loss: 0.0853\n",
            "Epoch [1/10], Step [1800/1875], Loss: 0.1022\n",
            "Epoch [2/10], Step [100/1875], Loss: 0.0646\n",
            "Epoch [2/10], Step [200/1875], Loss: 0.0189\n",
            "Epoch [2/10], Step [300/1875], Loss: 0.0980\n",
            "Epoch [2/10], Step [400/1875], Loss: 0.0291\n",
            "Epoch [2/10], Step [500/1875], Loss: 0.0343\n",
            "Epoch [2/10], Step [600/1875], Loss: 0.1310\n",
            "Epoch [2/10], Step [700/1875], Loss: 0.0393\n",
            "Epoch [2/10], Step [800/1875], Loss: 0.0213\n",
            "Epoch [2/10], Step [900/1875], Loss: 0.0111\n",
            "Epoch [2/10], Step [1000/1875], Loss: 0.0460\n",
            "Epoch [2/10], Step [1100/1875], Loss: 0.0068\n",
            "Epoch [2/10], Step [1200/1875], Loss: 0.0449\n",
            "Epoch [2/10], Step [1300/1875], Loss: 0.0323\n",
            "Epoch [2/10], Step [1400/1875], Loss: 0.0166\n",
            "Epoch [2/10], Step [1500/1875], Loss: 0.0274\n",
            "Epoch [2/10], Step [1600/1875], Loss: 0.0005\n",
            "Epoch [2/10], Step [1700/1875], Loss: 0.1379\n",
            "Epoch [2/10], Step [1800/1875], Loss: 0.0968\n",
            "Epoch [3/10], Step [100/1875], Loss: 0.0200\n",
            "Epoch [3/10], Step [200/1875], Loss: 0.1011\n",
            "Epoch [3/10], Step [300/1875], Loss: 0.0086\n",
            "Epoch [3/10], Step [400/1875], Loss: 0.0452\n",
            "Epoch [3/10], Step [500/1875], Loss: 0.0056\n",
            "Epoch [3/10], Step [600/1875], Loss: 0.0095\n",
            "Epoch [3/10], Step [700/1875], Loss: 0.0116\n",
            "Epoch [3/10], Step [800/1875], Loss: 0.0004\n",
            "Epoch [3/10], Step [900/1875], Loss: 0.0888\n",
            "Epoch [3/10], Step [1000/1875], Loss: 0.0658\n",
            "Epoch [3/10], Step [1100/1875], Loss: 0.0015\n",
            "Epoch [3/10], Step [1200/1875], Loss: 0.1105\n",
            "Epoch [3/10], Step [1300/1875], Loss: 0.0904\n",
            "Epoch [3/10], Step [1400/1875], Loss: 0.0662\n",
            "Epoch [3/10], Step [1500/1875], Loss: 0.0291\n",
            "Epoch [3/10], Step [1600/1875], Loss: 0.0036\n",
            "Epoch [3/10], Step [1700/1875], Loss: 0.0038\n",
            "Epoch [3/10], Step [1800/1875], Loss: 0.0048\n",
            "Epoch [4/10], Step [100/1875], Loss: 0.0082\n",
            "Epoch [4/10], Step [200/1875], Loss: 0.0001\n",
            "Epoch [4/10], Step [300/1875], Loss: 0.0201\n",
            "Epoch [4/10], Step [400/1875], Loss: 0.0016\n",
            "Epoch [4/10], Step [500/1875], Loss: 0.0170\n",
            "Epoch [4/10], Step [600/1875], Loss: 0.0118\n",
            "Epoch [4/10], Step [700/1875], Loss: 0.0048\n",
            "Epoch [4/10], Step [800/1875], Loss: 0.0458\n",
            "Epoch [4/10], Step [900/1875], Loss: 0.1103\n",
            "Epoch [4/10], Step [1000/1875], Loss: 0.0171\n",
            "Epoch [4/10], Step [1100/1875], Loss: 0.0314\n",
            "Epoch [4/10], Step [1200/1875], Loss: 0.0003\n",
            "Epoch [4/10], Step [1300/1875], Loss: 0.0928\n",
            "Epoch [4/10], Step [1400/1875], Loss: 0.0004\n",
            "Epoch [4/10], Step [1500/1875], Loss: 0.0412\n",
            "Epoch [4/10], Step [1600/1875], Loss: 0.0210\n",
            "Epoch [4/10], Step [1700/1875], Loss: 0.0204\n",
            "Epoch [4/10], Step [1800/1875], Loss: 0.2377\n",
            "Epoch [5/10], Step [100/1875], Loss: 0.0021\n",
            "Epoch [5/10], Step [200/1875], Loss: 0.0066\n",
            "Epoch [5/10], Step [300/1875], Loss: 0.0497\n",
            "Epoch [5/10], Step [400/1875], Loss: 0.0014\n",
            "Epoch [5/10], Step [500/1875], Loss: 0.0090\n",
            "Epoch [5/10], Step [600/1875], Loss: 0.0002\n",
            "Epoch [5/10], Step [700/1875], Loss: 0.0008\n",
            "Epoch [5/10], Step [800/1875], Loss: 0.0032\n",
            "Epoch [5/10], Step [900/1875], Loss: 0.0913\n",
            "Epoch [5/10], Step [1000/1875], Loss: 0.0083\n",
            "Epoch [5/10], Step [1100/1875], Loss: 0.0167\n",
            "Epoch [5/10], Step [1200/1875], Loss: 0.0004\n",
            "Epoch [5/10], Step [1300/1875], Loss: 0.0044\n",
            "Epoch [5/10], Step [1400/1875], Loss: 0.0029\n",
            "Epoch [5/10], Step [1500/1875], Loss: 0.0012\n",
            "Epoch [5/10], Step [1600/1875], Loss: 0.0023\n",
            "Epoch [5/10], Step [1700/1875], Loss: 0.0082\n",
            "Epoch [5/10], Step [1800/1875], Loss: 0.0053\n",
            "Epoch [6/10], Step [100/1875], Loss: 0.0003\n",
            "Epoch [6/10], Step [200/1875], Loss: 0.0028\n",
            "Epoch [6/10], Step [300/1875], Loss: 0.0014\n",
            "Epoch [6/10], Step [400/1875], Loss: 0.0007\n",
            "Epoch [6/10], Step [500/1875], Loss: 0.0023\n",
            "Epoch [6/10], Step [600/1875], Loss: 0.0242\n",
            "Epoch [6/10], Step [700/1875], Loss: 0.0130\n",
            "Epoch [6/10], Step [800/1875], Loss: 0.0091\n",
            "Epoch [6/10], Step [900/1875], Loss: 0.0350\n",
            "Epoch [6/10], Step [1000/1875], Loss: 0.0004\n",
            "Epoch [6/10], Step [1100/1875], Loss: 0.0620\n",
            "Epoch [6/10], Step [1200/1875], Loss: 0.0045\n",
            "Epoch [6/10], Step [1300/1875], Loss: 0.3681\n",
            "Epoch [6/10], Step [1400/1875], Loss: 0.0042\n",
            "Epoch [6/10], Step [1500/1875], Loss: 0.0137\n",
            "Epoch [6/10], Step [1600/1875], Loss: 0.0015\n",
            "Epoch [6/10], Step [1700/1875], Loss: 0.0082\n",
            "Epoch [6/10], Step [1800/1875], Loss: 0.0171\n",
            "Epoch [7/10], Step [100/1875], Loss: 0.0135\n",
            "Epoch [7/10], Step [200/1875], Loss: 1.0131\n",
            "Epoch [7/10], Step [300/1875], Loss: 0.0256\n",
            "Epoch [7/10], Step [400/1875], Loss: 0.0443\n",
            "Epoch [7/10], Step [500/1875], Loss: 0.0011\n",
            "Epoch [7/10], Step [600/1875], Loss: 0.0020\n",
            "Epoch [7/10], Step [700/1875], Loss: 0.0095\n",
            "Epoch [7/10], Step [800/1875], Loss: 0.0717\n",
            "Epoch [7/10], Step [900/1875], Loss: 0.0003\n",
            "Epoch [7/10], Step [1000/1875], Loss: 0.0007\n",
            "Epoch [7/10], Step [1100/1875], Loss: 0.0068\n",
            "Epoch [7/10], Step [1200/1875], Loss: 0.0554\n",
            "Epoch [7/10], Step [1300/1875], Loss: 0.0018\n",
            "Epoch [7/10], Step [1400/1875], Loss: 0.0006\n",
            "Epoch [7/10], Step [1500/1875], Loss: 0.0002\n",
            "Epoch [7/10], Step [1600/1875], Loss: 0.0020\n",
            "Epoch [7/10], Step [1700/1875], Loss: 0.0095\n",
            "Epoch [7/10], Step [1800/1875], Loss: 0.0096\n",
            "Epoch [8/10], Step [100/1875], Loss: 0.0038\n",
            "Epoch [8/10], Step [200/1875], Loss: 0.0002\n",
            "Epoch [8/10], Step [300/1875], Loss: 0.0336\n",
            "Epoch [8/10], Step [400/1875], Loss: 0.0001\n",
            "Epoch [8/10], Step [500/1875], Loss: 0.0213\n",
            "Epoch [8/10], Step [600/1875], Loss: 0.1203\n",
            "Epoch [8/10], Step [700/1875], Loss: 0.0124\n",
            "Epoch [8/10], Step [800/1875], Loss: 0.0473\n",
            "Epoch [8/10], Step [900/1875], Loss: 0.0030\n",
            "Epoch [8/10], Step [1000/1875], Loss: 0.0004\n",
            "Epoch [8/10], Step [1100/1875], Loss: 0.0012\n",
            "Epoch [8/10], Step [1200/1875], Loss: 0.0111\n",
            "Epoch [8/10], Step [1300/1875], Loss: 0.0445\n",
            "Epoch [8/10], Step [1400/1875], Loss: 0.0071\n",
            "Epoch [8/10], Step [1500/1875], Loss: 0.0390\n",
            "Epoch [8/10], Step [1600/1875], Loss: 0.0006\n",
            "Epoch [8/10], Step [1700/1875], Loss: 0.0009\n",
            "Epoch [8/10], Step [1800/1875], Loss: 0.0488\n",
            "Epoch [9/10], Step [100/1875], Loss: 0.0060\n",
            "Epoch [9/10], Step [200/1875], Loss: 0.0289\n",
            "Epoch [9/10], Step [300/1875], Loss: 0.0062\n",
            "Epoch [9/10], Step [400/1875], Loss: 0.0001\n",
            "Epoch [9/10], Step [500/1875], Loss: 0.0316\n",
            "Epoch [9/10], Step [600/1875], Loss: 0.0002\n",
            "Epoch [9/10], Step [700/1875], Loss: 0.0009\n",
            "Epoch [9/10], Step [800/1875], Loss: 0.2769\n",
            "Epoch [9/10], Step [900/1875], Loss: 0.0011\n",
            "Epoch [9/10], Step [1000/1875], Loss: 0.0182\n",
            "Epoch [9/10], Step [1100/1875], Loss: 0.0001\n",
            "Epoch [9/10], Step [1200/1875], Loss: 0.0017\n",
            "Epoch [9/10], Step [1300/1875], Loss: 0.0115\n",
            "Epoch [9/10], Step [1400/1875], Loss: 0.0045\n",
            "Epoch [9/10], Step [1500/1875], Loss: 0.0378\n",
            "Epoch [9/10], Step [1600/1875], Loss: 0.0034\n",
            "Epoch [9/10], Step [1700/1875], Loss: 0.0254\n",
            "Epoch [9/10], Step [1800/1875], Loss: 0.0225\n",
            "Epoch [10/10], Step [100/1875], Loss: 0.0034\n",
            "Epoch [10/10], Step [200/1875], Loss: 0.0082\n",
            "Epoch [10/10], Step [300/1875], Loss: 0.0005\n",
            "Epoch [10/10], Step [400/1875], Loss: 0.0006\n",
            "Epoch [10/10], Step [500/1875], Loss: 0.0093\n",
            "Epoch [10/10], Step [600/1875], Loss: 0.0350\n",
            "Epoch [10/10], Step [700/1875], Loss: 0.0009\n",
            "Epoch [10/10], Step [800/1875], Loss: 0.0962\n",
            "Epoch [10/10], Step [900/1875], Loss: 0.0020\n",
            "Epoch [10/10], Step [1000/1875], Loss: 0.0003\n",
            "Epoch [10/10], Step [1100/1875], Loss: 0.1050\n",
            "Epoch [10/10], Step [1200/1875], Loss: 0.0000\n",
            "Epoch [10/10], Step [1300/1875], Loss: 0.0004\n",
            "Epoch [10/10], Step [1400/1875], Loss: 0.0002\n",
            "Epoch [10/10], Step [1500/1875], Loss: 0.0014\n",
            "Epoch [10/10], Step [1600/1875], Loss: 0.0171\n",
            "Epoch [10/10], Step [1700/1875], Loss: 0.0065\n",
            "Epoch [10/10], Step [1800/1875], Loss: 0.0046\n",
            "Test Accuracy of the model : 98.99 %\n"
          ]
        }
      ]
    },
    {
      "cell_type": "markdown",
      "metadata": {
        "id": "zbyG43crr11p"
      },
      "source": [
        "#### Question-2\n",
        "\n",
        "Report the final test accuracy displayed above (If you are not getting the exact number shown in options, please report the closest number).\n",
        "1. 84%\n",
        "2. 76%\n",
        "3. 99%\n",
        "4. 57%\n",
        "\n",
        "Answer- (3)"
      ]
    },
    {
      "cell_type": "markdown",
      "metadata": {
        "id": "U99Y-WUU_jub"
      },
      "source": [
        "### Resnet with Squeeze and Excitation Block\n",
        "In this question, you'll have to code ResNet with a Squeeze and Excitation block from scratch.\n",
        "\n",
        "It's suggested you first briefly understand how the Squeeze and Excitation block works.\n",
        "\n",
        "Sidenote: As this assignment is mainly focused on learning things, we don't focus on architecture design and hyper-parameter tuning. When you start using deep learning in real-world applications and competitions, hyper-parameter tuning plays a decent role!\n",
        "\n"
      ]
    },
    {
      "cell_type": "code",
      "metadata": {
        "id": "ysuCHZaeADs0"
      },
      "source": [
        "import numpy as np\n",
        "import torch\n",
        "import torch.nn as nn\n",
        "import torch.optim as optim\n",
        "from torchvision import datasets, transforms\n",
        "import torch.nn.functional as F\n",
        "import timeit\n",
        "import unittest\n",
        "\n",
        "## Please DONOT remove these lines.\n",
        "torch.manual_seed(2022)\n",
        "torch.backends.cudnn.deterministic = True\n",
        "torch.backends.cudnn.benchmark = False\n",
        "np.random.seed(2022)"
      ],
      "execution_count": null,
      "outputs": []
    },
    {
      "cell_type": "markdown",
      "source": [
        "### Data Loading and Pre-processing"
      ],
      "metadata": {
        "id": "tEbre8AAhoVk"
      }
    },
    {
      "cell_type": "code",
      "source": [
        "# check availability of GPU and set the device accordingly\n",
        "device = torch.device(\"cuda\" if torch.cuda.is_available() else \"cpu\")\n",
        "\n",
        "# define a set of transforms for preparing the dataset\n",
        "transform_train = transforms.Compose([\n",
        "        transforms.RandomCrop(32, padding=8),\n",
        "        transforms.RandomHorizontalFlip(), # flip the image horizontally (use pytorch random horizontal flip)\n",
        "        transforms.ToTensor(), # convert the image to a pytorch tensor\n",
        "        transforms.Normalize((0.4914, 0.4822, 0.4465), (0.2023, 0.1994, 0.2010)) # normalise the images with mean and std of the dataset\n",
        "        ])\n",
        "\n",
        "# define transforms for the test data: Should they be same as the one used for train?\n",
        "transform_test = transforms.Compose([\n",
        "        transforms.ToTensor(),\n",
        "        transforms.Normalize((0.4914, 0.4822, 0.4465), (0.2023, 0.1994, 0.2010))\n",
        "        ])\n",
        "\n",
        "use_cuda = torch.cuda.is_available() # if you have acess to a GPU, enable it to speed the training"
      ],
      "metadata": {
        "id": "1VuGPugA2hHF"
      },
      "execution_count": null,
      "outputs": []
    },
    {
      "cell_type": "code",
      "source": [
        "# Load the CIFAR10 training, test datasets using `torchvision.datasets.CIFAR10` using the transform defined above\n",
        "#### YOUR CODE STARTS HERE ####\n",
        "train_dataset = datasets.CIFAR10('./data', train=True, download=True,\n",
        "                       transform=transform)\n",
        "test_dataset = datasets.CIFAR10('./data', train=False, download=True,\n",
        "                       transform=transform)\n",
        "#### YOUR CODE ENDS HERE ####"
      ],
      "metadata": {
        "id": "BehVlMVq20XB",
        "colab": {
          "base_uri": "https://localhost:8080/"
        },
        "outputId": "94c591a1-2d03-468c-e4d7-d04e6686d433"
      },
      "execution_count": null,
      "outputs": [
        {
          "output_type": "stream",
          "name": "stdout",
          "text": [
            "Downloading https://www.cs.toronto.edu/~kriz/cifar-10-python.tar.gz to ./data/cifar-10-python.tar.gz\n"
          ]
        },
        {
          "output_type": "stream",
          "name": "stderr",
          "text": [
            "100%|██████████| 170498071/170498071 [00:05<00:00, 28974198.53it/s]\n"
          ]
        },
        {
          "output_type": "stream",
          "name": "stdout",
          "text": [
            "Extracting ./data/cifar-10-python.tar.gz to ./data\n",
            "Files already downloaded and verified\n"
          ]
        }
      ]
    },
    {
      "cell_type": "code",
      "source": [
        "# create dataloaders for training and test datasets\n",
        "# use a batch size of 32 and set shuffle=True for the training set\n",
        "#### YOUR CODE STARTS HERE ####\n",
        "train_dataloader = torch.utils.data.DataLoader(train_dataset, batch_size=32, shuffle=True)\n",
        "test_dataloader = torch.utils.data.DataLoader(test_dataset, batch_size=32)\n",
        "#### YOUR CODE ENDS HERE ####"
      ],
      "metadata": {
        "id": "XfEZXMqX28KT"
      },
      "execution_count": null,
      "outputs": []
    },
    {
      "cell_type": "markdown",
      "source": [
        "### Network Definition"
      ],
      "metadata": {
        "id": "3NLIiWl5h3F3"
      }
    },
    {
      "cell_type": "code",
      "source": [
        "# Squeeze and excitation residual neural network (One convolutional layer and one resnet block)\n",
        "class SEResNet(nn.Module):\n",
        "    def __init__(self, num_classes=10):\n",
        "        super( SEResNet, self).__init__()\n",
        "\n",
        "        # define a sequential module named conv_block1 with\n",
        "        # 1. conv layer with input channel as 3, output channels as 16, kernel size of 3, stride of 1 and padding 1\n",
        "        # 2. 2D BatchNorm of 16 features\n",
        "        # 3. ReLU activation\n",
        "        # 4. 2D MaxPool with kernel size of 2 and stride of 2\n",
        "\n",
        "        #### YOUR CODE STARTS HERE ####\n",
        "        self.conv_block1 = nn.Sequential(\n",
        "            nn.Conv2d(3, 16, kernel_size=3, stride=1, padding=1),\n",
        "            nn.BatchNorm2d(16),\n",
        "            nn.ReLU(),\n",
        "            nn.MaxPool2d(kernel_size=2, stride=2))\n",
        "        #### YOUR CODE ENDS HERE ####\n",
        "\n",
        "        # define a sequential module named conv_block2 with\n",
        "        # 1. conv layer with input channel as 16, output channels as 16, kernel size of 5, stride of 1 and padding 1\n",
        "        # 2. 2D BatchNorm of 64 features\n",
        "        # 3. ReLU activation\n",
        "\n",
        "        #### YOUR CODE STARTS HERE ####\n",
        "        self.conv_block2 =nn.Sequential(\n",
        "            nn.Conv2d(16, 16, kernel_size=5, stride=1, padding=1),\n",
        "            nn.BatchNorm2d(16),\n",
        "            nn.ReLU())\n",
        "        #### YOUR CODE ENDS HERE ####\n",
        "\n",
        "        # define a sequential module named conv_block3 with\n",
        "        # 1. conv layer with input channel as 16, output channels as 16, kernel size of 5, stride of 1 and padding 3\n",
        "        # 2. 2D BatchNorm of 16 features\n",
        "\n",
        "        #### YOUR CODE STARTS HERE ####\n",
        "        self.conv_block3 =nn.Sequential(\n",
        "            nn.Conv2d(16, 16, kernel_size=5, stride=1, padding=3),\n",
        "            nn.BatchNorm2d(16))\n",
        "        #### YOUR CODE ENDS HERE ####\n",
        "\n",
        "        #define a squeeze and excitation block with following requirements\n",
        "        #1. the output of conv_block3 should be squeezed with average pooling while maintaining the number of channels\n",
        "        #2. the excitation block should be a sequential module that passes the squeezed vector through a bottleneck of dimension 4\n",
        "        #   and then then expand it back to its original size while using relu activation in the bottleneck layer and sigmoid in the expanded output(no bias should be used)\n",
        "        #3. Define a single relu activation layer named relu\n",
        "\n",
        "        #### YOUR CODE STARTS HERE ####\n",
        "        self.squeeze = nn.AdaptiveAvgPool2d(1)\n",
        "        self.excitation = nn.Sequential(\n",
        "            nn.Linear(16, 4, bias=False),\n",
        "            nn.ReLU(inplace=True),\n",
        "            nn.Linear(4, 16, bias=False),\n",
        "            nn.Sigmoid()\n",
        "        )\n",
        "        self.relu = nn.ReLU(inplace=True)\n",
        "        #### YOUR CODE ENDS HERE ####\n",
        "\n",
        "        # define a linear(dense) layer with output features corresponding to the number of classes in the dataset and input features as per the forward pass defined later\n",
        "\n",
        "        #### YOUR CODE STARTS HERE ####\n",
        "        self.fc = nn.Linear(16*16*16, num_classes)\n",
        "        #### YOUR CODE ENDS HERE ####\n",
        "\n",
        "    def forward(self, x):\n",
        "        # Use the blocks defined above to write the forward pass for the following squeeze and excitation resnet:\n",
        "        #(input -> conv_block1 -> conv_block2 -> conv_block3 -> squeeze -> excite -> scale (ie scale the ouputs of conv_block3 with the corresponding excitations)->\n",
        "        # skip connection(from conv_block1 to the scaled outputs) -> relu -> fc -> prediction\n",
        "\n",
        "        #### YOUR CODE STARTS HERE ####\n",
        "        output = self.conv_block1(x)\n",
        "        identity = output\n",
        "        output = self.conv_block2(output)\n",
        "        output = self.conv_block3(output)\n",
        "\n",
        "        se = self.squeeze(output).view(-1, 16)\n",
        "\n",
        "        se = self.excitation(se).view(-1, 16, 1, 1)\n",
        "        output = output * se.expand_as(output)\n",
        "        output += identity\n",
        "        output = self.relu(output)\n",
        "        output = output.reshape(output.size(0), -1)\n",
        "        output = self.fc(output)\n",
        "        #### YOUR CODE ENDS HERE ####\n",
        "        return output"
      ],
      "metadata": {
        "id": "4MAxPdbY3KGO"
      },
      "execution_count": null,
      "outputs": []
    },
    {
      "cell_type": "markdown",
      "source": [
        "### Training and Inference"
      ],
      "metadata": {
        "id": "3BXL1lt_h7-I"
      }
    },
    {
      "cell_type": "code",
      "source": [
        "# Write the model definition, training and testing code exactly as before and replace model name by SEResNet\n",
        "#### YOUR CODE STARTS HERE ####\n",
        "model = SEResNet(num_classes).to(device)\n",
        "\n",
        "#define cross entropy loss and Adam optimizer using learning rate=learning_rate\n",
        "# Loss and optimizer\n",
        "criterion = nn.CrossEntropyLoss()\n",
        "optimizer = torch.optim.Adam(model.parameters(), lr=learning_rate)\n",
        "\n",
        "# Train the model\n",
        "total_step = len(train_dataloader)\n",
        "for epoch in range(num_epochs):\n",
        "    for i, (images, labels) in enumerate(train_dataloader):\n",
        "        # send the image, target to the device\n",
        "        images = images.to(device)\n",
        "        labels = labels.to(device)\n",
        "\n",
        "        # flush out the gradients stored in optimizer\n",
        "        optimizer.zero_grad()\n",
        "        # pass the image to the model and assign the output to variable named output\n",
        "        output = model(images)\n",
        "        # calculate the loss (use cross entropy in pytorch)\n",
        "        loss = criterion(output, labels)\n",
        "        # do a backward pass\n",
        "        loss.backward()\n",
        "        # update the weights\n",
        "        optimizer.step()\n",
        "        if (i+1) % 100 == 0:\n",
        "            print ('Epoch [{}/{}], Step [{}/{}], Loss: {:.4f}'\n",
        "                   .format(epoch+1, num_epochs, i+1, total_step, loss.item()))\n",
        "\n",
        "# Test the model\n",
        "model.eval()  # eval mode (batchnorm uses moving mean/variance instead of mini-batch mean/variance)\n",
        "with torch.no_grad():\n",
        "    correct = 0\n",
        "    total = 0\n",
        "    for images, labels in test_dataloader:\n",
        "        # send the image, target to the device\n",
        "        images = images.to(device)\n",
        "        labels = labels.to(device)\n",
        "        # pass the image to the model and assign the output to variable named output\n",
        "        outputs = model(images)\n",
        "        _, predicted = torch.max(outputs.data, 1)\n",
        "        total += labels.size(0)\n",
        "        correct += (predicted == labels).sum().item()\n",
        "\n",
        "    print('Test Accuracy of the model : {} %'.format(100 * correct / total))\n",
        "#### YOUR CODE ENDS HERE ####"
      ],
      "metadata": {
        "id": "ft8eNBKu7AaH",
        "colab": {
          "base_uri": "https://localhost:8080/"
        },
        "outputId": "b16340dd-72c9-4b74-e0ba-82be4dd02a38"
      },
      "execution_count": null,
      "outputs": [
        {
          "output_type": "stream",
          "name": "stdout",
          "text": [
            "Epoch [1/10], Step [100/1563], Loss: 1.9288\n",
            "Epoch [1/10], Step [200/1563], Loss: 1.7563\n",
            "Epoch [1/10], Step [300/1563], Loss: 1.2943\n",
            "Epoch [1/10], Step [400/1563], Loss: 1.6970\n",
            "Epoch [1/10], Step [500/1563], Loss: 1.3529\n",
            "Epoch [1/10], Step [600/1563], Loss: 2.0141\n",
            "Epoch [1/10], Step [700/1563], Loss: 1.2822\n",
            "Epoch [1/10], Step [800/1563], Loss: 1.6365\n",
            "Epoch [1/10], Step [900/1563], Loss: 1.5780\n",
            "Epoch [1/10], Step [1000/1563], Loss: 1.6262\n",
            "Epoch [1/10], Step [1100/1563], Loss: 0.8018\n",
            "Epoch [1/10], Step [1200/1563], Loss: 1.4705\n",
            "Epoch [1/10], Step [1300/1563], Loss: 0.8492\n",
            "Epoch [1/10], Step [1400/1563], Loss: 1.4419\n",
            "Epoch [1/10], Step [1500/1563], Loss: 1.1903\n",
            "Epoch [2/10], Step [100/1563], Loss: 1.2080\n",
            "Epoch [2/10], Step [200/1563], Loss: 0.8537\n",
            "Epoch [2/10], Step [300/1563], Loss: 1.0898\n",
            "Epoch [2/10], Step [400/1563], Loss: 1.1424\n",
            "Epoch [2/10], Step [500/1563], Loss: 1.4600\n",
            "Epoch [2/10], Step [600/1563], Loss: 1.3461\n",
            "Epoch [2/10], Step [700/1563], Loss: 0.9310\n",
            "Epoch [2/10], Step [800/1563], Loss: 1.3511\n",
            "Epoch [2/10], Step [900/1563], Loss: 1.4708\n",
            "Epoch [2/10], Step [1000/1563], Loss: 1.2671\n",
            "Epoch [2/10], Step [1100/1563], Loss: 1.1562\n",
            "Epoch [2/10], Step [1200/1563], Loss: 1.3018\n",
            "Epoch [2/10], Step [1300/1563], Loss: 1.0194\n",
            "Epoch [2/10], Step [1400/1563], Loss: 1.1150\n",
            "Epoch [2/10], Step [1500/1563], Loss: 0.7937\n",
            "Epoch [3/10], Step [100/1563], Loss: 1.0869\n",
            "Epoch [3/10], Step [200/1563], Loss: 0.9635\n",
            "Epoch [3/10], Step [300/1563], Loss: 0.8728\n",
            "Epoch [3/10], Step [400/1563], Loss: 0.9783\n",
            "Epoch [3/10], Step [500/1563], Loss: 1.1431\n",
            "Epoch [3/10], Step [600/1563], Loss: 1.2049\n",
            "Epoch [3/10], Step [700/1563], Loss: 1.4152\n",
            "Epoch [3/10], Step [800/1563], Loss: 1.4768\n",
            "Epoch [3/10], Step [900/1563], Loss: 0.9526\n",
            "Epoch [3/10], Step [1000/1563], Loss: 1.3512\n",
            "Epoch [3/10], Step [1100/1563], Loss: 1.0194\n",
            "Epoch [3/10], Step [1200/1563], Loss: 1.1665\n",
            "Epoch [3/10], Step [1300/1563], Loss: 1.0465\n",
            "Epoch [3/10], Step [1400/1563], Loss: 0.8866\n",
            "Epoch [3/10], Step [1500/1563], Loss: 1.0638\n",
            "Epoch [4/10], Step [100/1563], Loss: 1.1345\n",
            "Epoch [4/10], Step [200/1563], Loss: 1.0232\n",
            "Epoch [4/10], Step [300/1563], Loss: 0.8726\n",
            "Epoch [4/10], Step [400/1563], Loss: 0.9501\n",
            "Epoch [4/10], Step [500/1563], Loss: 0.8100\n",
            "Epoch [4/10], Step [600/1563], Loss: 0.9562\n",
            "Epoch [4/10], Step [700/1563], Loss: 0.9996\n",
            "Epoch [4/10], Step [800/1563], Loss: 0.8612\n",
            "Epoch [4/10], Step [900/1563], Loss: 1.0410\n",
            "Epoch [4/10], Step [1000/1563], Loss: 1.1290\n",
            "Epoch [4/10], Step [1100/1563], Loss: 1.1634\n",
            "Epoch [4/10], Step [1200/1563], Loss: 1.0051\n",
            "Epoch [4/10], Step [1300/1563], Loss: 0.9128\n",
            "Epoch [4/10], Step [1400/1563], Loss: 1.0339\n",
            "Epoch [4/10], Step [1500/1563], Loss: 0.5586\n",
            "Epoch [5/10], Step [100/1563], Loss: 0.7692\n",
            "Epoch [5/10], Step [200/1563], Loss: 0.7908\n",
            "Epoch [5/10], Step [300/1563], Loss: 0.7650\n",
            "Epoch [5/10], Step [400/1563], Loss: 0.8151\n",
            "Epoch [5/10], Step [500/1563], Loss: 0.6928\n",
            "Epoch [5/10], Step [600/1563], Loss: 1.1665\n",
            "Epoch [5/10], Step [700/1563], Loss: 1.3041\n",
            "Epoch [5/10], Step [800/1563], Loss: 1.2510\n",
            "Epoch [5/10], Step [900/1563], Loss: 1.2056\n",
            "Epoch [5/10], Step [1000/1563], Loss: 0.8042\n",
            "Epoch [5/10], Step [1100/1563], Loss: 1.0334\n",
            "Epoch [5/10], Step [1200/1563], Loss: 0.6096\n",
            "Epoch [5/10], Step [1300/1563], Loss: 1.3804\n",
            "Epoch [5/10], Step [1400/1563], Loss: 0.7692\n",
            "Epoch [5/10], Step [1500/1563], Loss: 1.1245\n",
            "Epoch [6/10], Step [100/1563], Loss: 0.7834\n",
            "Epoch [6/10], Step [200/1563], Loss: 0.6589\n",
            "Epoch [6/10], Step [300/1563], Loss: 0.8407\n",
            "Epoch [6/10], Step [400/1563], Loss: 0.7216\n",
            "Epoch [6/10], Step [500/1563], Loss: 0.7831\n",
            "Epoch [6/10], Step [600/1563], Loss: 0.9495\n",
            "Epoch [6/10], Step [700/1563], Loss: 0.9093\n",
            "Epoch [6/10], Step [800/1563], Loss: 0.7847\n",
            "Epoch [6/10], Step [900/1563], Loss: 0.9209\n",
            "Epoch [6/10], Step [1000/1563], Loss: 0.4850\n",
            "Epoch [6/10], Step [1100/1563], Loss: 0.9789\n",
            "Epoch [6/10], Step [1200/1563], Loss: 0.8442\n",
            "Epoch [6/10], Step [1300/1563], Loss: 1.1815\n",
            "Epoch [6/10], Step [1400/1563], Loss: 1.1066\n",
            "Epoch [6/10], Step [1500/1563], Loss: 1.0911\n",
            "Epoch [7/10], Step [100/1563], Loss: 0.7731\n",
            "Epoch [7/10], Step [200/1563], Loss: 0.5907\n",
            "Epoch [7/10], Step [300/1563], Loss: 0.7045\n",
            "Epoch [7/10], Step [400/1563], Loss: 0.8818\n",
            "Epoch [7/10], Step [500/1563], Loss: 1.1509\n",
            "Epoch [7/10], Step [600/1563], Loss: 1.4955\n",
            "Epoch [7/10], Step [700/1563], Loss: 0.5401\n",
            "Epoch [7/10], Step [800/1563], Loss: 0.7057\n",
            "Epoch [7/10], Step [900/1563], Loss: 1.2031\n",
            "Epoch [7/10], Step [1000/1563], Loss: 0.7559\n",
            "Epoch [7/10], Step [1100/1563], Loss: 0.8495\n",
            "Epoch [7/10], Step [1200/1563], Loss: 0.6387\n",
            "Epoch [7/10], Step [1300/1563], Loss: 0.9270\n",
            "Epoch [7/10], Step [1400/1563], Loss: 0.7439\n",
            "Epoch [7/10], Step [1500/1563], Loss: 0.9808\n",
            "Epoch [8/10], Step [100/1563], Loss: 0.4725\n",
            "Epoch [8/10], Step [200/1563], Loss: 0.7065\n",
            "Epoch [8/10], Step [300/1563], Loss: 0.7666\n",
            "Epoch [8/10], Step [400/1563], Loss: 0.5590\n",
            "Epoch [8/10], Step [500/1563], Loss: 0.9312\n",
            "Epoch [8/10], Step [600/1563], Loss: 1.0113\n",
            "Epoch [8/10], Step [700/1563], Loss: 0.9552\n",
            "Epoch [8/10], Step [800/1563], Loss: 0.8076\n",
            "Epoch [8/10], Step [900/1563], Loss: 1.0982\n",
            "Epoch [8/10], Step [1000/1563], Loss: 0.4439\n",
            "Epoch [8/10], Step [1100/1563], Loss: 1.0049\n",
            "Epoch [8/10], Step [1200/1563], Loss: 0.8567\n",
            "Epoch [8/10], Step [1300/1563], Loss: 0.6029\n",
            "Epoch [8/10], Step [1400/1563], Loss: 0.7512\n",
            "Epoch [8/10], Step [1500/1563], Loss: 0.6192\n",
            "Epoch [9/10], Step [100/1563], Loss: 0.6422\n",
            "Epoch [9/10], Step [200/1563], Loss: 1.2722\n",
            "Epoch [9/10], Step [300/1563], Loss: 0.5846\n",
            "Epoch [9/10], Step [400/1563], Loss: 0.9027\n",
            "Epoch [9/10], Step [500/1563], Loss: 0.4352\n",
            "Epoch [9/10], Step [600/1563], Loss: 0.6077\n",
            "Epoch [9/10], Step [700/1563], Loss: 0.8141\n",
            "Epoch [9/10], Step [800/1563], Loss: 0.7477\n",
            "Epoch [9/10], Step [900/1563], Loss: 0.6835\n",
            "Epoch [9/10], Step [1000/1563], Loss: 0.8934\n",
            "Epoch [9/10], Step [1100/1563], Loss: 0.5881\n",
            "Epoch [9/10], Step [1200/1563], Loss: 0.5622\n",
            "Epoch [9/10], Step [1300/1563], Loss: 0.7866\n",
            "Epoch [9/10], Step [1400/1563], Loss: 0.5002\n",
            "Epoch [9/10], Step [1500/1563], Loss: 0.4330\n",
            "Epoch [10/10], Step [100/1563], Loss: 1.1229\n",
            "Epoch [10/10], Step [200/1563], Loss: 0.3964\n",
            "Epoch [10/10], Step [300/1563], Loss: 0.5787\n",
            "Epoch [10/10], Step [400/1563], Loss: 1.4167\n",
            "Epoch [10/10], Step [500/1563], Loss: 0.6418\n",
            "Epoch [10/10], Step [600/1563], Loss: 0.7488\n",
            "Epoch [10/10], Step [700/1563], Loss: 0.5304\n",
            "Epoch [10/10], Step [800/1563], Loss: 0.7583\n",
            "Epoch [10/10], Step [900/1563], Loss: 0.7975\n",
            "Epoch [10/10], Step [1000/1563], Loss: 0.6579\n",
            "Epoch [10/10], Step [1100/1563], Loss: 0.8156\n",
            "Epoch [10/10], Step [1200/1563], Loss: 0.6765\n",
            "Epoch [10/10], Step [1300/1563], Loss: 0.8725\n",
            "Epoch [10/10], Step [1400/1563], Loss: 0.8263\n",
            "Epoch [10/10], Step [1500/1563], Loss: 0.8430\n",
            "Test Accuracy of the model : 64.6 %\n"
          ]
        }
      ]
    },
    {
      "cell_type": "markdown",
      "source": [
        "#### Question-3\n",
        "\n",
        "Report the final test accuracy displayed above (If you are not getting the exact number shown in options, please report the closest number).\n",
        "1. 85%\n",
        "2. 73%\n",
        "3. 54%\n",
        "4. 65%\n",
        "\n",
        "Answer- (4)"
      ],
      "metadata": {
        "id": "fvNJRlHOiDpW"
      }
    }
  ]
}